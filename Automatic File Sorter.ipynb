{
 "cells": [
  {
   "cell_type": "markdown",
   "id": "123958e6-5463-40c0-acf6-d3488a0cdf39",
   "metadata": {},
   "source": [
    "Automatic File Sorter"
   ]
  },
  {
   "cell_type": "code",
   "execution_count": 32,
   "id": "12a3fabc-65e4-4a2c-a86f-e7dd04f85c49",
   "metadata": {},
   "outputs": [],
   "source": [
    "import os , shutil\n",
    "\n",
    "path=r'C:/Users/acer/OneDrive/Desktop/python project sorter/'\n",
    "\n",
    "os.listdir(path)\n",
    "\n",
    "folder_name =['png files', 'text files']\n",
    "for loop in range (0,2):\n",
    "    if not os.path.exists(path + folder_name[loop]):\n",
    "        print(path + folder_name[loop])\n",
    "        os.makedirs(path + folder_name[loop])\n",
    "        \n",
    "file_name=os.listdir(path)\n",
    "\n",
    "for file in file_name:\n",
    "    if '.png' in file and not os.path.exists(path +'png files/'+file):\n",
    "        shutil.move(path +file,path +'png files/',file)\n",
    "    elif '.txt' in file and not os.path.exists(path +'text files/'+file):\n",
    "        shutil.move(path +file,path +'text files/',file)\n"
   ]
  },
  {
   "cell_type": "code",
   "execution_count": null,
   "id": "1890eaf4-f6e7-4b4f-8e7c-c39f86895210",
   "metadata": {},
   "outputs": [],
   "source": []
  },
  {
   "cell_type": "code",
   "execution_count": null,
   "id": "c0ce886b-34b6-4911-bd6d-5e8062fecbc3",
   "metadata": {},
   "outputs": [],
   "source": []
  },
  {
   "cell_type": "code",
   "execution_count": null,
   "id": "db8f4992-4d47-4976-96f5-8dea03c85e40",
   "metadata": {},
   "outputs": [],
   "source": []
  },
  {
   "cell_type": "code",
   "execution_count": null,
   "id": "82a56a37-5d48-4412-a7a1-dc1f4ceb7d1a",
   "metadata": {},
   "outputs": [],
   "source": []
  },
  {
   "cell_type": "code",
   "execution_count": null,
   "id": "e7607127-7af3-4872-b132-c2432f5fb986",
   "metadata": {},
   "outputs": [],
   "source": []
  }
 ],
 "metadata": {
  "kernelspec": {
   "display_name": "Python 3 (ipykernel)",
   "language": "python",
   "name": "python3"
  },
  "language_info": {
   "codemirror_mode": {
    "name": "ipython",
    "version": 3
   },
   "file_extension": ".py",
   "mimetype": "text/x-python",
   "name": "python",
   "nbconvert_exporter": "python",
   "pygments_lexer": "ipython3",
   "version": "3.12.3"
  }
 },
 "nbformat": 4,
 "nbformat_minor": 5
}
